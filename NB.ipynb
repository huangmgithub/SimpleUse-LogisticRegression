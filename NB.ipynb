{
 "cells": [
  {
   "cell_type": "markdown",
   "metadata": {},
   "source": [
    "## 朴素贝叶斯"
   ]
  },
  {
   "cell_type": "markdown",
   "metadata": {},
   "source": [
    "在机器学习中，朴素贝叶斯分类器是一系列以假设特征之间强(朴素)独立下运用朴素贝叶斯定义为基础的简单概率分类器  \n",
    "其原理简单易懂，主要用于解决二分类问题"
   ]
  },
  {
   "cell_type": "markdown",
   "metadata": {},
   "source": [
    "### 贝叶斯定理  \n",
    "关于随机事件A和B的条件概率，其形式表示为:  \n",
    "$$ P(A|B) * P(B) = P(B|A) * P(A) $$"
   ]
  },
  {
   "cell_type": "markdown",
   "metadata": {},
   "source": [
    "在贝叶斯定理中，每个名词都有约定俗成的名称：\n",
    "+ P(A|B)是已知B发生时A发生的概率，也由于得自B的取值而被称作A的后验概率\n",
    "+ P(A)是A的先验概率，之所以称为'先验'是因为它不考虑B的因素\n",
    "+ P(B|A)是已知A发生时B发生的概率，也由于得自A的取值而被称作B的后验概率\n",
    "+ P(B)是B的先验概率，之所以称为'先验'是因为他不考虑A的因素"
   ]
  },
  {
   "cell_type": "markdown",
   "metadata": {},
   "source": [
    "#### 问题：既然有了贝叶斯，那么朴素贝叶斯又是什么呢？"
   ]
  },
  {
   "cell_type": "markdown",
   "metadata": {},
   "source": [
    "假设存在类别C = [C1, C2, C3 ]， 需要预知X = [x1, x2, x3]属于C中的哪个分类  \n",
    "以类别C1为例：\n",
    "```\n",
    "P(C_1|X) = P(C1|x_1,x_1,x_3)  \n",
    "= P(x_1,x_2,x_3|C_1) * P(C_1) / P(x_1, x_2, x_3)\n",
    "```"
   ]
  },
  {
   "cell_type": "markdown",
   "metadata": {},
   "source": [
    "每个类别的发生情况下P(x1,x2,x3)的概率一致的则有:\n",
    "$$ P(C_1|X) \\quad 成比例 \\quad P(x_1, x_2, x_3|C_1) * P(C-1) $$"
   ]
  },
  {
   "cell_type": "markdown",
   "metadata": {},
   "source": [
    "再次对式子进行分析: P(x1, x2, x3|C1) * P(C1) 其实是 P(C1, x1, x2, x3)的联合概率，  \n",
    "根据联合概率的链式法则：\n"
   ]
  },
  {
   "cell_type": "markdown",
   "metadata": {},
   "source": [
    "```\n",
    "P(C1,x1,x2,x3)  \n",
    "= P(x1|C1,x2,x3) * P(C1,x2,x3)  \n",
    "= P(x1|C1,x2,x3) * P(x2|C1,x3) * P(C1,x3)  \n",
    "= P(x1|C1,x2,x3) * P(x2|C1,x3) * P(x3|C1) * P(C1)  \n",
    "```"
   ]
  },
  {
   "cell_type": "markdown",
   "metadata": {},
   "source": [
    "这里假定特征值(x1,x2,x3)之间是相互独立的(当然这种假设在现实的语言环境是不成立的，但是在工程上是可用的，这就达到目的了):\n",
    "```\n",
    "P(C1|X) = P(x1|C) * P(x2|C1) * P(x3|C1) * P(C1)  \n",
    "```"
   ]
  },
  {
   "cell_type": "markdown",
   "metadata": {},
   "source": [
    "n个特征样本的概率公式(F_i为样本特征):"
   ]
  },
  {
   "cell_type": "markdown",
   "metadata": {},
   "source": [
    "$$ \\infty P(C) \\prod_{i=1}^n P(F_i|C) $$"
   ]
  },
  {
   "cell_type": "markdown",
   "metadata": {},
   "source": [
    "#### 思考：\n",
    "+ 上面的朴素贝叶斯公式，什么样的数据可以使用上面的公式\n",
    "+ 如果数据是离散的应该怎么做\n",
    "+ 概率怎么计算"
   ]
  },
  {
   "cell_type": "markdown",
   "metadata": {},
   "source": [
    "#### 问题1：连续数据处理\n",
    "+ 第一种解决方案是假设样本服从高斯分布，通过高斯概率密度函数解决；\n",
    "+ 第二种方案将连续值离散化例如：[1, 2, 3, 4, 5, 6]离散化为三个类别[1, 2]、[3, 4]、[5, 6]；\n",
    "+ 当然利用高斯朴素贝叶斯是需要考虑超参数的因素(均值和方差)；  \n",
    "\n",
    "#### 问题2：什么数据可以利用朴素贝叶斯\n",
    "朴素贝叶斯常用模型有以下三种：\n",
    "+ 高斯模型：处理特征是连续型变量的情况。\n",
    "+ 多项式模型：最常见，要求特征是离散数据。\n",
    "+ 伯努利模型：要求特征是离散的，且为布尔类型，即true和false，或者1和0。\n",
    "\n",
    "#### 问题3：概率的计算\n",
    "+ 根据以上使用不同的模型使用不同的概率计算方式"
   ]
  },
  {
   "cell_type": "markdown",
   "metadata": {},
   "source": [
    "#### 朴素贝叶斯的优缺点以及适用场景\n",
    "\n",
    "优点：\n",
    "\n",
    "+ 对大数据量训练具有很好的速度;\n",
    "\n",
    "+ 能够处理多分类任务，常用语文本分类;\n",
    "\n",
    "+ 对未知样本的预测速度快，算法简单;\n",
    "\n",
    "+ 在分布独立的假定下，训练效果较好;\n",
    "\n",
    "缺点：\n",
    "\n",
    "+ 需要计算先验概率;\n",
    "\n",
    "+ 分类决策存在错误率;\n",
    "\n",
    "+ 对输入数据的表达形式很敏感;\n",
    "\n",
    "+ 由于使用了样本属性独立性的假设，所以其无法学习到特征直接的关系;\n",
    "\n",
    "适用场景：\n",
    "\n",
    "+ 垃圾邮件处理、情感分析、场景预测......"
   ]
  },
  {
   "cell_type": "code",
   "execution_count": null,
   "metadata": {},
   "outputs": [],
   "source": []
  }
 ],
 "metadata": {
  "kernelspec": {
   "display_name": "Python 3",
   "language": "python",
   "name": "python3"
  },
  "language_info": {
   "codemirror_mode": {
    "name": "ipython",
    "version": 3
   },
   "file_extension": ".py",
   "mimetype": "text/x-python",
   "name": "python",
   "nbconvert_exporter": "python",
   "pygments_lexer": "ipython3",
   "version": "3.7.3"
  }
 },
 "nbformat": 4,
 "nbformat_minor": 2
}
